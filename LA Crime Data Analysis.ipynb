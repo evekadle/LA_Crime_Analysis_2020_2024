{
 "cells": [
  {
   "cell_type": "markdown",
   "metadata": {},
   "source": [
    "<h1> LA Crime Analysis (2020 - Present)</h1>\n",
    "\n",
    "**Analysis Period:** January 1, 2020, to September 16, 2024.\n",
    "\n",
    "**Purpose of this Analysis:**\n",
    "- Understand crime trends in Los Angeles.\n",
    "- Examine how crime rates have changed over time.\n",
    "- Identify areas most affected by crime.\n",
    "- Provide insights for stakeholders (law enforcement, policymakers) to support informed decision-making aimed at reducing crime rates and enhancing public safety.\n"
   ]
  },
  {
   "cell_type": "markdown",
   "metadata": {},
   "source": [
    "<h2 style=\"color: blue;\">Data Collecting</h2> \n",
    "\n",
    " **Link to the data used and its publisher can be found here** <br>\n",
    "Data link-\n",
    "https://catalog.data.gov/dataset/crime-data-from-2020-to-present <br>\n",
    "Publisher link-\n",
    "https://data.lacity.org/Public-Safety/Crime-Data-from-2020-to-Present/2nrs-mtv8/about_data  "
   ]
  },
  {
   "cell_type": "markdown",
   "metadata": {},
   "source": [
    "### **Data Dictionary**\n",
    "\n",
    "*Dictionary describes column name (column names are police report data)*\n",
    "1. **DR_NO:** Division of Records Number: Made up of 2 digit year, Area Id, and 5 digits <br>\n",
    "2. **Date Rptd:** Date Incidint was reported <br>\n",
    "3. **DATE OCC:** Date of occurance.<br> \n",
    "4. **TIME OCC:** Time of occurance, 24 Hour military time <br>\n",
    "5. **AREA:** LAPD has 21 Community Police Stations referred to as Geographic Areas within the department. These Geographic Areas are sequentially numbered from 1-21.<br>\n",
    "6. **AREA NAME:** The 21 Geographic Areas or Patrol Divisions are also given a name designation that references a landmark or the surrounding community that it is responsible for. <br>\n",
    "7. **Rpt Dist No:** A four-digit code that represents a sub-area within a Geographic Area <br>\n",
    "8. **Part 1-2:** 1 means normal responce (code 1, no lights or sirens), 2 means urget (code 2, immediate risk of injury to person,or property)<br>\n",
    "9. **Crm Cd:** Indicates the crime committed <br>\n",
    "10. **Crm Cd Desc:** Defines the crime comitted <br>\n",
    "11. **Mocodes:** Modus Operandi: Activities associated with the suspect in commission of the crime. <br>\n",
    "12. **Vict Age:** the victims age <br>\n",
    "13. **Vict Sex:** the sex of the victim <br>\n",
    "14. **Vict Descent:** Descent Code: A - Other Asian B - Black C - Chinese D - Cambodian F - Filipino G - Guamanian H - Hispanic/Latin/Mexican I - American Indian/Alaskan Native J - Japanese K - Korean L - Laotian O - Other P - Pacific Islander S - Samoan U - Hawaiian V - Vietnamese W - White X - Unknown Z - Asian Indian <br>\n",
    "15. **Premis Cd:** The type of structure, vehicle, or location where the crime took place. <br>\n",
    "16. **Premis Desc:** Defines the premis code provided<br>\n",
    "17. **Weapon Used Cd:** The type of weapon used in the crime. <br>\n",
    "18. **Weapon Desc:** Defines the Weapon Used Code provided.<br>\n",
    "19. **Status:** Status of the case. (IC is the default)<br>\n",
    "20. **Status Desc:** Defines the Status Code provided.<br>\n",
    "21. **Crm Cd 1:** Indicates the crime committed. Crime Code 1 is the primary and most serious one. Crime Code 2, 3, and 4 are respectively less serious offenses. Lower crime class numbers are more serious. <br>\n",
    "22. **Crm Cd 2:** May contain a code for an additional crime, less serious than Crime Code 1.<br>\n",
    "23. **Crm Cd 3:** May contain a code for an additional crime, less serious than Crime Code 1.<br>\n",
    "24. **Crm Cd 4:** May contain a code for an additional crime, less serious than Crime Code 1.<br>\n",
    "25. **LOCATION:** Street address of crime incident rounded to the nearest hundred block to maintain anonymity.<br>\n",
    "26. **Cross Street:** Street address of crime incident rounded to the nearest hundred block to maintain anonymity.<br>\n",
    "27. **LAT:** Latitude<br>\n",
    "28. **LON:** Longitude<br>"
   ]
  },
  {
   "cell_type": "code",
   "execution_count": 159,
   "metadata": {},
   "outputs": [
    {
     "data": {
      "text/html": [
       "<div>\n",
       "<style scoped>\n",
       "    .dataframe tbody tr th:only-of-type {\n",
       "        vertical-align: middle;\n",
       "    }\n",
       "\n",
       "    .dataframe tbody tr th {\n",
       "        vertical-align: top;\n",
       "    }\n",
       "\n",
       "    .dataframe thead th {\n",
       "        text-align: right;\n",
       "    }\n",
       "</style>\n",
       "<table border=\"1\" class=\"dataframe\">\n",
       "  <thead>\n",
       "    <tr style=\"text-align: right;\">\n",
       "      <th></th>\n",
       "      <th>DR_NO</th>\n",
       "      <th>Date Rptd</th>\n",
       "      <th>DATE OCC</th>\n",
       "      <th>TIME OCC</th>\n",
       "      <th>AREA</th>\n",
       "      <th>AREA NAME</th>\n",
       "      <th>Rpt Dist No</th>\n",
       "      <th>Part 1-2</th>\n",
       "      <th>Crm Cd</th>\n",
       "      <th>Crm Cd Desc</th>\n",
       "      <th>...</th>\n",
       "      <th>Status</th>\n",
       "      <th>Status Desc</th>\n",
       "      <th>Crm Cd 1</th>\n",
       "      <th>Crm Cd 2</th>\n",
       "      <th>Crm Cd 3</th>\n",
       "      <th>Crm Cd 4</th>\n",
       "      <th>LOCATION</th>\n",
       "      <th>Cross Street</th>\n",
       "      <th>LAT</th>\n",
       "      <th>LON</th>\n",
       "    </tr>\n",
       "  </thead>\n",
       "  <tbody>\n",
       "    <tr>\n",
       "      <th>0</th>\n",
       "      <td>190326475</td>\n",
       "      <td>03/01/2020 12:00:00 AM</td>\n",
       "      <td>03/01/2020 12:00:00 AM</td>\n",
       "      <td>2130</td>\n",
       "      <td>7</td>\n",
       "      <td>Wilshire</td>\n",
       "      <td>784</td>\n",
       "      <td>1</td>\n",
       "      <td>510</td>\n",
       "      <td>VEHICLE - STOLEN</td>\n",
       "      <td>...</td>\n",
       "      <td>AA</td>\n",
       "      <td>Adult Arrest</td>\n",
       "      <td>510.0</td>\n",
       "      <td>998.0</td>\n",
       "      <td>NaN</td>\n",
       "      <td>NaN</td>\n",
       "      <td>1900 S  LONGWOOD                     AV</td>\n",
       "      <td>NaN</td>\n",
       "      <td>34.0375</td>\n",
       "      <td>-118.3506</td>\n",
       "    </tr>\n",
       "    <tr>\n",
       "      <th>1</th>\n",
       "      <td>200106753</td>\n",
       "      <td>02/09/2020 12:00:00 AM</td>\n",
       "      <td>02/08/2020 12:00:00 AM</td>\n",
       "      <td>1800</td>\n",
       "      <td>1</td>\n",
       "      <td>Central</td>\n",
       "      <td>182</td>\n",
       "      <td>1</td>\n",
       "      <td>330</td>\n",
       "      <td>BURGLARY FROM VEHICLE</td>\n",
       "      <td>...</td>\n",
       "      <td>IC</td>\n",
       "      <td>Invest Cont</td>\n",
       "      <td>330.0</td>\n",
       "      <td>998.0</td>\n",
       "      <td>NaN</td>\n",
       "      <td>NaN</td>\n",
       "      <td>1000 S  FLOWER                       ST</td>\n",
       "      <td>NaN</td>\n",
       "      <td>34.0444</td>\n",
       "      <td>-118.2628</td>\n",
       "    </tr>\n",
       "    <tr>\n",
       "      <th>2</th>\n",
       "      <td>200320258</td>\n",
       "      <td>11/11/2020 12:00:00 AM</td>\n",
       "      <td>11/04/2020 12:00:00 AM</td>\n",
       "      <td>1700</td>\n",
       "      <td>3</td>\n",
       "      <td>Southwest</td>\n",
       "      <td>356</td>\n",
       "      <td>1</td>\n",
       "      <td>480</td>\n",
       "      <td>BIKE - STOLEN</td>\n",
       "      <td>...</td>\n",
       "      <td>IC</td>\n",
       "      <td>Invest Cont</td>\n",
       "      <td>480.0</td>\n",
       "      <td>NaN</td>\n",
       "      <td>NaN</td>\n",
       "      <td>NaN</td>\n",
       "      <td>1400 W  37TH                         ST</td>\n",
       "      <td>NaN</td>\n",
       "      <td>34.0210</td>\n",
       "      <td>-118.3002</td>\n",
       "    </tr>\n",
       "    <tr>\n",
       "      <th>3</th>\n",
       "      <td>200907217</td>\n",
       "      <td>05/10/2023 12:00:00 AM</td>\n",
       "      <td>03/10/2020 12:00:00 AM</td>\n",
       "      <td>2037</td>\n",
       "      <td>9</td>\n",
       "      <td>Van Nuys</td>\n",
       "      <td>964</td>\n",
       "      <td>1</td>\n",
       "      <td>343</td>\n",
       "      <td>SHOPLIFTING-GRAND THEFT ($950.01 &amp; OVER)</td>\n",
       "      <td>...</td>\n",
       "      <td>IC</td>\n",
       "      <td>Invest Cont</td>\n",
       "      <td>343.0</td>\n",
       "      <td>NaN</td>\n",
       "      <td>NaN</td>\n",
       "      <td>NaN</td>\n",
       "      <td>14000    RIVERSIDE                    DR</td>\n",
       "      <td>NaN</td>\n",
       "      <td>34.1576</td>\n",
       "      <td>-118.4387</td>\n",
       "    </tr>\n",
       "    <tr>\n",
       "      <th>4</th>\n",
       "      <td>220614831</td>\n",
       "      <td>08/18/2022 12:00:00 AM</td>\n",
       "      <td>08/17/2020 12:00:00 AM</td>\n",
       "      <td>1200</td>\n",
       "      <td>6</td>\n",
       "      <td>Hollywood</td>\n",
       "      <td>666</td>\n",
       "      <td>2</td>\n",
       "      <td>354</td>\n",
       "      <td>THEFT OF IDENTITY</td>\n",
       "      <td>...</td>\n",
       "      <td>IC</td>\n",
       "      <td>Invest Cont</td>\n",
       "      <td>354.0</td>\n",
       "      <td>NaN</td>\n",
       "      <td>NaN</td>\n",
       "      <td>NaN</td>\n",
       "      <td>1900    TRANSIENT</td>\n",
       "      <td>NaN</td>\n",
       "      <td>34.0944</td>\n",
       "      <td>-118.3277</td>\n",
       "    </tr>\n",
       "  </tbody>\n",
       "</table>\n",
       "<p>5 rows × 28 columns</p>\n",
       "</div>"
      ],
      "text/plain": [
       "       DR_NO               Date Rptd                DATE OCC  TIME OCC  AREA  \\\n",
       "0  190326475  03/01/2020 12:00:00 AM  03/01/2020 12:00:00 AM      2130     7   \n",
       "1  200106753  02/09/2020 12:00:00 AM  02/08/2020 12:00:00 AM      1800     1   \n",
       "2  200320258  11/11/2020 12:00:00 AM  11/04/2020 12:00:00 AM      1700     3   \n",
       "3  200907217  05/10/2023 12:00:00 AM  03/10/2020 12:00:00 AM      2037     9   \n",
       "4  220614831  08/18/2022 12:00:00 AM  08/17/2020 12:00:00 AM      1200     6   \n",
       "\n",
       "   AREA NAME  Rpt Dist No  Part 1-2  Crm Cd  \\\n",
       "0   Wilshire          784         1     510   \n",
       "1    Central          182         1     330   \n",
       "2  Southwest          356         1     480   \n",
       "3   Van Nuys          964         1     343   \n",
       "4  Hollywood          666         2     354   \n",
       "\n",
       "                                Crm Cd Desc  ... Status   Status Desc  \\\n",
       "0                          VEHICLE - STOLEN  ...     AA  Adult Arrest   \n",
       "1                     BURGLARY FROM VEHICLE  ...     IC   Invest Cont   \n",
       "2                             BIKE - STOLEN  ...     IC   Invest Cont   \n",
       "3  SHOPLIFTING-GRAND THEFT ($950.01 & OVER)  ...     IC   Invest Cont   \n",
       "4                         THEFT OF IDENTITY  ...     IC   Invest Cont   \n",
       "\n",
       "  Crm Cd 1 Crm Cd 2  Crm Cd 3 Crm Cd 4  \\\n",
       "0    510.0    998.0       NaN      NaN   \n",
       "1    330.0    998.0       NaN      NaN   \n",
       "2    480.0      NaN       NaN      NaN   \n",
       "3    343.0      NaN       NaN      NaN   \n",
       "4    354.0      NaN       NaN      NaN   \n",
       "\n",
       "                                   LOCATION Cross Street      LAT       LON  \n",
       "0   1900 S  LONGWOOD                     AV          NaN  34.0375 -118.3506  \n",
       "1   1000 S  FLOWER                       ST          NaN  34.0444 -118.2628  \n",
       "2   1400 W  37TH                         ST          NaN  34.0210 -118.3002  \n",
       "3  14000    RIVERSIDE                    DR          NaN  34.1576 -118.4387  \n",
       "4                         1900    TRANSIENT          NaN  34.0944 -118.3277  \n",
       "\n",
       "[5 rows x 28 columns]"
      ]
     },
     "execution_count": 159,
     "metadata": {},
     "output_type": "execute_result"
    }
   ],
   "source": [
    "import pandas as pd\n",
    "import numpy as np\n",
    "from datetime import datetime\n",
    "import matplotlib.pyplot as plt\n",
    "import seaborn as sns\n",
    "\n",
    "df = pd.read_csv('Crime_Data_from_2020_to_Present.csv')\n",
    "df.head()"
   ]
  },
  {
   "cell_type": "markdown",
   "metadata": {},
   "source": [
    "<h2 style=\"color: blue;\">Data Cleaning</h2>"
   ]
  },
  {
   "cell_type": "markdown",
   "metadata": {},
   "source": [
    "### **Checking for Duplicate Rows**\n",
    "\n",
    "No duplicate rows found"
   ]
  },
  {
   "cell_type": "code",
   "execution_count": 344,
   "metadata": {},
   "outputs": [
    {
     "data": {
      "text/plain": [
       "0"
      ]
     },
     "execution_count": 344,
     "metadata": {},
     "output_type": "execute_result"
    }
   ],
   "source": [
    "df.duplicated().sum()"
   ]
  },
  {
   "cell_type": "markdown",
   "metadata": {},
   "source": [
    "### **Identifying Incorrect Values**\n",
    "\n",
    "Incorrect values for **Victim Sex** and **Victim Age** were identified using `.value_counts()`. To address this issue, the functions **gender_check(x)** and **age_check(x)** outlined below will return empty values for any incorrect inputs.\n"
   ]
  },
  {
   "cell_type": "markdown",
   "metadata": {},
   "source": [
    "#### Vict Sex Incorrect Values\n",
    "\n",
    "In addition to **female** and **male**, there are entries for **X**, **H**, and **-** in the **Vict Sex** field. The reasons for these distinctions are unclear. Therefore, this analysis will focus solely on comparing **female** and **male** victims.\n"
   ]
  },
  {
   "cell_type": "code",
   "execution_count": 160,
   "metadata": {},
   "outputs": [
    {
     "data": {
      "text/plain": [
       "M    395620\n",
       "F    351884\n",
       "X     93814\n",
       "H       111\n",
       "-         1\n",
       "Name: Vict Sex, dtype: int64"
      ]
     },
     "execution_count": 160,
     "metadata": {},
     "output_type": "execute_result"
    }
   ],
   "source": [
    "df['Vict Sex'].value_counts()"
   ]
  },
  {
   "cell_type": "code",
   "execution_count": 161,
   "metadata": {},
   "outputs": [
    {
     "data": {
      "text/plain": [
       "M    395620\n",
       "F    351884\n",
       "Name: Vict Sex, dtype: int64"
      ]
     },
     "execution_count": 161,
     "metadata": {},
     "output_type": "execute_result"
    }
   ],
   "source": [
    "def gender_check(x):\n",
    "    if x not in ['M', 'F']:\n",
    "        return np.nan\n",
    "    return x\n",
    "df['Vict Sex']= df['Vict Sex'].apply(gender_check)\n",
    "df['Vict Sex'].value_counts()"
   ]
  },
  {
   "cell_type": "markdown",
   "metadata": {},
   "source": [
    "#### Vict Age Incorrect Values\n",
    "\n",
    "It appears that **0** was mistakenly entered in the **Vict Age** field instead of leaving it blank. There were no victims aged **1**, and negative ages are nonsensical. Consequently, all these invalid inputs have been converted into empty cells. The age **2** value appears to be correct based on its associated crime description.\n"
   ]
  },
  {
   "cell_type": "code",
   "execution_count": 320,
   "metadata": {},
   "outputs": [
    {
     "data": {
      "text/html": [
       "<div>\n",
       "<style scoped>\n",
       "    .dataframe tbody tr th:only-of-type {\n",
       "        vertical-align: middle;\n",
       "    }\n",
       "\n",
       "    .dataframe tbody tr th {\n",
       "        vertical-align: top;\n",
       "    }\n",
       "\n",
       "    .dataframe thead th {\n",
       "        text-align: right;\n",
       "    }\n",
       "</style>\n",
       "<table border=\"1\" class=\"dataframe\">\n",
       "  <thead>\n",
       "    <tr style=\"text-align: right;\">\n",
       "      <th></th>\n",
       "      <th>index</th>\n",
       "      <th>count</th>\n",
       "    </tr>\n",
       "  </thead>\n",
       "  <tbody>\n",
       "    <tr>\n",
       "      <th>102</th>\n",
       "      <td>-4</td>\n",
       "      <td>3</td>\n",
       "    </tr>\n",
       "    <tr>\n",
       "      <th>101</th>\n",
       "      <td>-3</td>\n",
       "      <td>5</td>\n",
       "    </tr>\n",
       "    <tr>\n",
       "      <th>100</th>\n",
       "      <td>-2</td>\n",
       "      <td>29</td>\n",
       "    </tr>\n",
       "    <tr>\n",
       "      <th>96</th>\n",
       "      <td>-1</td>\n",
       "      <td>96</td>\n",
       "    </tr>\n",
       "    <tr>\n",
       "      <th>0</th>\n",
       "      <td>0</td>\n",
       "      <td>257559</td>\n",
       "    </tr>\n",
       "    <tr>\n",
       "      <th>85</th>\n",
       "      <td>2</td>\n",
       "      <td>428</td>\n",
       "    </tr>\n",
       "  </tbody>\n",
       "</table>\n",
       "</div>"
      ],
      "text/plain": [
       "     index   count\n",
       "102     -4       3\n",
       "101     -3       5\n",
       "100     -2      29\n",
       "96      -1      96\n",
       "0        0  257559\n",
       "85       2     428"
      ]
     },
     "execution_count": 320,
     "metadata": {},
     "output_type": "execute_result"
    }
   ],
   "source": [
    "df['Vict Age'].value_counts().reset_index(name = 'count').sort_values(by = 'index').head(6)"
   ]
  },
  {
   "cell_type": "code",
   "execution_count": 328,
   "metadata": {},
   "outputs": [],
   "source": [
    "def age_check(x):\n",
    "    if x<2:\n",
    "        return np.nan\n",
    "    return x\n",
    "df['Vict Age'] = df['Vict Age'].apply(age_check)"
   ]
  },
  {
   "cell_type": "code",
   "execution_count": 102,
   "metadata": {},
   "outputs": [
    {
     "data": {
      "text/plain": [
       "DR_NO                     0\n",
       "Date Rptd                 0\n",
       "DATE OCC                  0\n",
       "TIME OCC                  0\n",
       "AREA                      0\n",
       "AREA NAME                 0\n",
       "Rpt Dist No               0\n",
       "Part 1-2                  0\n",
       "Crm Cd                    0\n",
       "Crm Cd Desc               0\n",
       "Mocodes              143980\n",
       "Vict Age                  0\n",
       "Vict Sex             231124\n",
       "victim ethnicity     137211\n",
       "Premis Cd                15\n",
       "Premis Desc             585\n",
       "Weapon Used Cd       652669\n",
       "Weapon Desc          652669\n",
       "Status                    0\n",
       "Status Desc               0\n",
       "Crm Cd 1                 11\n",
       "Crm Cd 2             909812\n",
       "Crm Cd 3             976319\n",
       "Crm Cd 4             978564\n",
       "Address                   0\n",
       "Cross Street         827201\n",
       "LAT                       0\n",
       "LON                       0\n",
       "Report Delay              0\n",
       "Year                      0\n",
       "Month                     0\n",
       "Report Delay Days         0\n",
       "dtype: int64"
      ]
     },
     "execution_count": 102,
     "metadata": {},
     "output_type": "execute_result"
    }
   ],
   "source": [
    "df.isna().sum()"
   ]
  },
  {
   "cell_type": "markdown",
   "metadata": {},
   "source": [
    "### **Fixing Empty Cells**\n",
    "\n",
    "In one instance, the **Status** column was empty while the **Status Description** was marked as **\"UNK.\"** Since this was the only case with an unknown status description, I updated the empty **Status** cell to **\"CC\"** for consistency.\n"
   ]
  },
  {
   "cell_type": "code",
   "execution_count": 162,
   "metadata": {
    "scrolled": true
   },
   "outputs": [
    {
     "data": {
      "text/html": [
       "<div>\n",
       "<style scoped>\n",
       "    .dataframe tbody tr th:only-of-type {\n",
       "        vertical-align: middle;\n",
       "    }\n",
       "\n",
       "    .dataframe tbody tr th {\n",
       "        vertical-align: top;\n",
       "    }\n",
       "\n",
       "    .dataframe thead th {\n",
       "        text-align: right;\n",
       "    }\n",
       "</style>\n",
       "<table border=\"1\" class=\"dataframe\">\n",
       "  <thead>\n",
       "    <tr style=\"text-align: right;\">\n",
       "      <th></th>\n",
       "      <th>DR_NO</th>\n",
       "      <th>Date Rptd</th>\n",
       "      <th>DATE OCC</th>\n",
       "      <th>TIME OCC</th>\n",
       "      <th>AREA</th>\n",
       "      <th>AREA NAME</th>\n",
       "      <th>Rpt Dist No</th>\n",
       "      <th>Part 1-2</th>\n",
       "      <th>Crm Cd</th>\n",
       "      <th>Crm Cd Desc</th>\n",
       "      <th>...</th>\n",
       "      <th>Status</th>\n",
       "      <th>Status Desc</th>\n",
       "      <th>Crm Cd 1</th>\n",
       "      <th>Crm Cd 2</th>\n",
       "      <th>Crm Cd 3</th>\n",
       "      <th>Crm Cd 4</th>\n",
       "      <th>LOCATION</th>\n",
       "      <th>Cross Street</th>\n",
       "      <th>LAT</th>\n",
       "      <th>LON</th>\n",
       "    </tr>\n",
       "  </thead>\n",
       "  <tbody>\n",
       "    <tr>\n",
       "      <th>487766</th>\n",
       "      <td>220125552</td>\n",
       "      <td>12/01/2022 12:00:00 AM</td>\n",
       "      <td>11/16/2022 12:00:00 AM</td>\n",
       "      <td>1615</td>\n",
       "      <td>1</td>\n",
       "      <td>Central</td>\n",
       "      <td>135</td>\n",
       "      <td>2</td>\n",
       "      <td>814</td>\n",
       "      <td>CHILD PORNOGRAPHY</td>\n",
       "      <td>...</td>\n",
       "      <td>CC</td>\n",
       "      <td>UNK</td>\n",
       "      <td>814.0</td>\n",
       "      <td>NaN</td>\n",
       "      <td>NaN</td>\n",
       "      <td>NaN</td>\n",
       "      <td>300 S  MAIN                         ST</td>\n",
       "      <td>NaN</td>\n",
       "      <td>34.0495</td>\n",
       "      <td>-118.2459</td>\n",
       "    </tr>\n",
       "    <tr>\n",
       "      <th>606882</th>\n",
       "      <td>220126119</td>\n",
       "      <td>12/10/2022 12:00:00 AM</td>\n",
       "      <td>12/10/2022 12:00:00 AM</td>\n",
       "      <td>1515</td>\n",
       "      <td>1</td>\n",
       "      <td>Central</td>\n",
       "      <td>119</td>\n",
       "      <td>1</td>\n",
       "      <td>350</td>\n",
       "      <td>THEFT, PERSON</td>\n",
       "      <td>...</td>\n",
       "      <td>CC</td>\n",
       "      <td>UNK</td>\n",
       "      <td>350.0</td>\n",
       "      <td>NaN</td>\n",
       "      <td>NaN</td>\n",
       "      <td>NaN</td>\n",
       "      <td>800 N  ALAMEDA                      ST</td>\n",
       "      <td>NaN</td>\n",
       "      <td>34.0561</td>\n",
       "      <td>-118.2375</td>\n",
       "    </tr>\n",
       "    <tr>\n",
       "      <th>725048</th>\n",
       "      <td>231311708</td>\n",
       "      <td>06/02/2023 12:00:00 AM</td>\n",
       "      <td>06/02/2023 12:00:00 AM</td>\n",
       "      <td>1340</td>\n",
       "      <td>13</td>\n",
       "      <td>Newton</td>\n",
       "      <td>1341</td>\n",
       "      <td>1</td>\n",
       "      <td>440</td>\n",
       "      <td>THEFT PLAIN - PETTY ($950 &amp; UNDER)</td>\n",
       "      <td>...</td>\n",
       "      <td>CC</td>\n",
       "      <td>UNK</td>\n",
       "      <td>440.0</td>\n",
       "      <td>624.0</td>\n",
       "      <td>NaN</td>\n",
       "      <td>NaN</td>\n",
       "      <td>36TH                         ST</td>\n",
       "      <td>MAIN                         ST</td>\n",
       "      <td>34.0170</td>\n",
       "      <td>-118.2742</td>\n",
       "    </tr>\n",
       "    <tr>\n",
       "      <th>817415</th>\n",
       "      <td>230708724</td>\n",
       "      <td>04/22/2023 12:00:00 AM</td>\n",
       "      <td>04/21/2023 12:00:00 AM</td>\n",
       "      <td>1200</td>\n",
       "      <td>7</td>\n",
       "      <td>Wilshire</td>\n",
       "      <td>787</td>\n",
       "      <td>1</td>\n",
       "      <td>510</td>\n",
       "      <td>VEHICLE - STOLEN</td>\n",
       "      <td>...</td>\n",
       "      <td>CC</td>\n",
       "      <td>UNK</td>\n",
       "      <td>510.0</td>\n",
       "      <td>NaN</td>\n",
       "      <td>NaN</td>\n",
       "      <td>NaN</td>\n",
       "      <td>2200    WELLINGTON                   RD</td>\n",
       "      <td>NaN</td>\n",
       "      <td>34.0364</td>\n",
       "      <td>-118.3357</td>\n",
       "    </tr>\n",
       "    <tr>\n",
       "      <th>849418</th>\n",
       "      <td>230915357</td>\n",
       "      <td>10/16/2023 12:00:00 AM</td>\n",
       "      <td>10/11/2023 12:00:00 AM</td>\n",
       "      <td>1800</td>\n",
       "      <td>9</td>\n",
       "      <td>Van Nuys</td>\n",
       "      <td>946</td>\n",
       "      <td>2</td>\n",
       "      <td>664</td>\n",
       "      <td>BUNCO, PETTY THEFT</td>\n",
       "      <td>...</td>\n",
       "      <td>CC</td>\n",
       "      <td>UNK</td>\n",
       "      <td>664.0</td>\n",
       "      <td>NaN</td>\n",
       "      <td>NaN</td>\n",
       "      <td>NaN</td>\n",
       "      <td>13800    OXNARD                       ST</td>\n",
       "      <td>NaN</td>\n",
       "      <td>34.1794</td>\n",
       "      <td>-118.4334</td>\n",
       "    </tr>\n",
       "    <tr>\n",
       "      <th>876861</th>\n",
       "      <td>241810568</td>\n",
       "      <td>06/08/2024 12:00:00 AM</td>\n",
       "      <td>05/24/2024 12:00:00 AM</td>\n",
       "      <td>1900</td>\n",
       "      <td>18</td>\n",
       "      <td>Southeast</td>\n",
       "      <td>1871</td>\n",
       "      <td>1</td>\n",
       "      <td>510</td>\n",
       "      <td>VEHICLE - STOLEN</td>\n",
       "      <td>...</td>\n",
       "      <td>NaN</td>\n",
       "      <td>UNK</td>\n",
       "      <td>510.0</td>\n",
       "      <td>NaN</td>\n",
       "      <td>NaN</td>\n",
       "      <td>NaN</td>\n",
       "      <td>13500 S  FIGUEROA                     ST</td>\n",
       "      <td>NaN</td>\n",
       "      <td>33.9092</td>\n",
       "      <td>-118.2827</td>\n",
       "    </tr>\n",
       "    <tr>\n",
       "      <th>922108</th>\n",
       "      <td>240206384</td>\n",
       "      <td>01/24/2024 12:00:00 AM</td>\n",
       "      <td>01/23/2024 12:00:00 AM</td>\n",
       "      <td>2100</td>\n",
       "      <td>2</td>\n",
       "      <td>Rampart</td>\n",
       "      <td>249</td>\n",
       "      <td>1</td>\n",
       "      <td>330</td>\n",
       "      <td>BURGLARY FROM VEHICLE</td>\n",
       "      <td>...</td>\n",
       "      <td>CC</td>\n",
       "      <td>UNK</td>\n",
       "      <td>330.0</td>\n",
       "      <td>NaN</td>\n",
       "      <td>NaN</td>\n",
       "      <td>NaN</td>\n",
       "      <td>600    LUCAS                        AV</td>\n",
       "      <td>NaN</td>\n",
       "      <td>34.0548</td>\n",
       "      <td>-118.2638</td>\n",
       "    </tr>\n",
       "  </tbody>\n",
       "</table>\n",
       "<p>7 rows × 28 columns</p>\n",
       "</div>"
      ],
      "text/plain": [
       "            DR_NO               Date Rptd                DATE OCC  TIME OCC  \\\n",
       "487766  220125552  12/01/2022 12:00:00 AM  11/16/2022 12:00:00 AM      1615   \n",
       "606882  220126119  12/10/2022 12:00:00 AM  12/10/2022 12:00:00 AM      1515   \n",
       "725048  231311708  06/02/2023 12:00:00 AM  06/02/2023 12:00:00 AM      1340   \n",
       "817415  230708724  04/22/2023 12:00:00 AM  04/21/2023 12:00:00 AM      1200   \n",
       "849418  230915357  10/16/2023 12:00:00 AM  10/11/2023 12:00:00 AM      1800   \n",
       "876861  241810568  06/08/2024 12:00:00 AM  05/24/2024 12:00:00 AM      1900   \n",
       "922108  240206384  01/24/2024 12:00:00 AM  01/23/2024 12:00:00 AM      2100   \n",
       "\n",
       "        AREA  AREA NAME  Rpt Dist No  Part 1-2  Crm Cd  \\\n",
       "487766     1    Central          135         2     814   \n",
       "606882     1    Central          119         1     350   \n",
       "725048    13     Newton         1341         1     440   \n",
       "817415     7   Wilshire          787         1     510   \n",
       "849418     9   Van Nuys          946         2     664   \n",
       "876861    18  Southeast         1871         1     510   \n",
       "922108     2    Rampart          249         1     330   \n",
       "\n",
       "                               Crm Cd Desc  ... Status  Status Desc Crm Cd 1  \\\n",
       "487766                   CHILD PORNOGRAPHY  ...     CC          UNK    814.0   \n",
       "606882                       THEFT, PERSON  ...     CC          UNK    350.0   \n",
       "725048  THEFT PLAIN - PETTY ($950 & UNDER)  ...     CC          UNK    440.0   \n",
       "817415                    VEHICLE - STOLEN  ...     CC          UNK    510.0   \n",
       "849418                  BUNCO, PETTY THEFT  ...     CC          UNK    664.0   \n",
       "876861                    VEHICLE - STOLEN  ...    NaN          UNK    510.0   \n",
       "922108               BURGLARY FROM VEHICLE  ...     CC          UNK    330.0   \n",
       "\n",
       "       Crm Cd 2  Crm Cd 3 Crm Cd 4                                  LOCATION  \\\n",
       "487766      NaN       NaN      NaN    300 S  MAIN                         ST   \n",
       "606882      NaN       NaN      NaN    800 N  ALAMEDA                      ST   \n",
       "725048    624.0       NaN      NaN           36TH                         ST   \n",
       "817415      NaN       NaN      NaN   2200    WELLINGTON                   RD   \n",
       "849418      NaN       NaN      NaN  13800    OXNARD                       ST   \n",
       "876861      NaN       NaN      NaN  13500 S  FIGUEROA                     ST   \n",
       "922108      NaN       NaN      NaN    600    LUCAS                        AV   \n",
       "\n",
       "                           Cross Street      LAT       LON  \n",
       "487766                              NaN  34.0495 -118.2459  \n",
       "606882                              NaN  34.0561 -118.2375  \n",
       "725048  MAIN                         ST  34.0170 -118.2742  \n",
       "817415                              NaN  34.0364 -118.3357  \n",
       "849418                              NaN  34.1794 -118.4334  \n",
       "876861                              NaN  33.9092 -118.2827  \n",
       "922108                              NaN  34.0548 -118.2638  \n",
       "\n",
       "[7 rows x 28 columns]"
      ]
     },
     "execution_count": 162,
     "metadata": {},
     "output_type": "execute_result"
    }
   ],
   "source": [
    "#Shows empty value for Status\n",
    "\n",
    "#df[df['Status'] == 'CC']\n",
    "df[df['Status Desc'] == 'UNK']"
   ]
  },
  {
   "cell_type": "code",
   "execution_count": 163,
   "metadata": {},
   "outputs": [],
   "source": [
    "#Changes missing value in 'Status' to 'CC'\n",
    "\n",
    "df.loc[df['Status'].isnull(),'Status'] = 'CC'"
   ]
  },
  {
   "cell_type": "markdown",
   "metadata": {},
   "source": [
    "### **Standardizing Format**\n",
    "\n",
    "Converting the **'Date Rptd'** (Date crime was reported) and **'DATE OCC'** (Date crime occurred) columns from an object type to datetime format. This standardization will facilitate date-based analyses and improve the handling of date-related operations.\n"
   ]
  },
  {
   "cell_type": "code",
   "execution_count": 8,
   "metadata": {},
   "outputs": [],
   "source": [
    "#df.dtypes"
   ]
  },
  {
   "cell_type": "code",
   "execution_count": 164,
   "metadata": {},
   "outputs": [],
   "source": [
    "#gets just the date from column\n",
    "df['DATE OCC'] = df['DATE OCC'].apply(lambda x: x[0:10])\n",
    "df['Date Rptd'] = df['Date Rptd'].apply(lambda x: x[0:10])"
   ]
  },
  {
   "cell_type": "code",
   "execution_count": 165,
   "metadata": {},
   "outputs": [],
   "source": [
    "#turns [Date occ] into datetime format YYY-MM-DD\n",
    "df['DATE OCC'] = pd.to_datetime(df['DATE OCC'])"
   ]
  },
  {
   "cell_type": "code",
   "execution_count": 166,
   "metadata": {},
   "outputs": [],
   "source": [
    "#turns [Date Rptd] into datetime format YYY-MM-DD\n",
    "df['Date Rptd'] = pd.to_datetime(df['Date Rptd'])"
   ]
  },
  {
   "cell_type": "code",
   "execution_count": 167,
   "metadata": {},
   "outputs": [
    {
     "data": {
      "text/html": [
       "<div>\n",
       "<style scoped>\n",
       "    .dataframe tbody tr th:only-of-type {\n",
       "        vertical-align: middle;\n",
       "    }\n",
       "\n",
       "    .dataframe tbody tr th {\n",
       "        vertical-align: top;\n",
       "    }\n",
       "\n",
       "    .dataframe thead th {\n",
       "        text-align: right;\n",
       "    }\n",
       "</style>\n",
       "<table border=\"1\" class=\"dataframe\">\n",
       "  <thead>\n",
       "    <tr style=\"text-align: right;\">\n",
       "      <th></th>\n",
       "      <th>DR_NO</th>\n",
       "      <th>Date Rptd</th>\n",
       "      <th>DATE OCC</th>\n",
       "      <th>TIME OCC</th>\n",
       "      <th>AREA</th>\n",
       "      <th>AREA NAME</th>\n",
       "      <th>Rpt Dist No</th>\n",
       "      <th>Part 1-2</th>\n",
       "      <th>Crm Cd</th>\n",
       "      <th>Crm Cd Desc</th>\n",
       "      <th>...</th>\n",
       "      <th>Status</th>\n",
       "      <th>Status Desc</th>\n",
       "      <th>Crm Cd 1</th>\n",
       "      <th>Crm Cd 2</th>\n",
       "      <th>Crm Cd 3</th>\n",
       "      <th>Crm Cd 4</th>\n",
       "      <th>LOCATION</th>\n",
       "      <th>Cross Street</th>\n",
       "      <th>LAT</th>\n",
       "      <th>LON</th>\n",
       "    </tr>\n",
       "  </thead>\n",
       "  <tbody>\n",
       "    <tr>\n",
       "      <th>0</th>\n",
       "      <td>190326475</td>\n",
       "      <td>2020-03-01</td>\n",
       "      <td>2020-03-01</td>\n",
       "      <td>2130</td>\n",
       "      <td>7</td>\n",
       "      <td>Wilshire</td>\n",
       "      <td>784</td>\n",
       "      <td>1</td>\n",
       "      <td>510</td>\n",
       "      <td>VEHICLE - STOLEN</td>\n",
       "      <td>...</td>\n",
       "      <td>AA</td>\n",
       "      <td>Adult Arrest</td>\n",
       "      <td>510.0</td>\n",
       "      <td>998.0</td>\n",
       "      <td>NaN</td>\n",
       "      <td>NaN</td>\n",
       "      <td>1900 S  LONGWOOD                     AV</td>\n",
       "      <td>NaN</td>\n",
       "      <td>34.0375</td>\n",
       "      <td>-118.3506</td>\n",
       "    </tr>\n",
       "    <tr>\n",
       "      <th>1</th>\n",
       "      <td>200106753</td>\n",
       "      <td>2020-02-09</td>\n",
       "      <td>2020-02-08</td>\n",
       "      <td>1800</td>\n",
       "      <td>1</td>\n",
       "      <td>Central</td>\n",
       "      <td>182</td>\n",
       "      <td>1</td>\n",
       "      <td>330</td>\n",
       "      <td>BURGLARY FROM VEHICLE</td>\n",
       "      <td>...</td>\n",
       "      <td>IC</td>\n",
       "      <td>Invest Cont</td>\n",
       "      <td>330.0</td>\n",
       "      <td>998.0</td>\n",
       "      <td>NaN</td>\n",
       "      <td>NaN</td>\n",
       "      <td>1000 S  FLOWER                       ST</td>\n",
       "      <td>NaN</td>\n",
       "      <td>34.0444</td>\n",
       "      <td>-118.2628</td>\n",
       "    </tr>\n",
       "    <tr>\n",
       "      <th>2</th>\n",
       "      <td>200320258</td>\n",
       "      <td>2020-11-11</td>\n",
       "      <td>2020-11-04</td>\n",
       "      <td>1700</td>\n",
       "      <td>3</td>\n",
       "      <td>Southwest</td>\n",
       "      <td>356</td>\n",
       "      <td>1</td>\n",
       "      <td>480</td>\n",
       "      <td>BIKE - STOLEN</td>\n",
       "      <td>...</td>\n",
       "      <td>IC</td>\n",
       "      <td>Invest Cont</td>\n",
       "      <td>480.0</td>\n",
       "      <td>NaN</td>\n",
       "      <td>NaN</td>\n",
       "      <td>NaN</td>\n",
       "      <td>1400 W  37TH                         ST</td>\n",
       "      <td>NaN</td>\n",
       "      <td>34.0210</td>\n",
       "      <td>-118.3002</td>\n",
       "    </tr>\n",
       "  </tbody>\n",
       "</table>\n",
       "<p>3 rows × 28 columns</p>\n",
       "</div>"
      ],
      "text/plain": [
       "       DR_NO  Date Rptd   DATE OCC  TIME OCC  AREA  AREA NAME  Rpt Dist No  \\\n",
       "0  190326475 2020-03-01 2020-03-01      2130     7   Wilshire          784   \n",
       "1  200106753 2020-02-09 2020-02-08      1800     1    Central          182   \n",
       "2  200320258 2020-11-11 2020-11-04      1700     3  Southwest          356   \n",
       "\n",
       "   Part 1-2  Crm Cd            Crm Cd Desc  ... Status   Status Desc Crm Cd 1  \\\n",
       "0         1     510       VEHICLE - STOLEN  ...     AA  Adult Arrest    510.0   \n",
       "1         1     330  BURGLARY FROM VEHICLE  ...     IC   Invest Cont    330.0   \n",
       "2         1     480          BIKE - STOLEN  ...     IC   Invest Cont    480.0   \n",
       "\n",
       "  Crm Cd 2  Crm Cd 3 Crm Cd 4                                 LOCATION  \\\n",
       "0    998.0       NaN      NaN  1900 S  LONGWOOD                     AV   \n",
       "1    998.0       NaN      NaN  1000 S  FLOWER                       ST   \n",
       "2      NaN       NaN      NaN  1400 W  37TH                         ST   \n",
       "\n",
       "  Cross Street      LAT       LON  \n",
       "0          NaN  34.0375 -118.3506  \n",
       "1          NaN  34.0444 -118.2628  \n",
       "2          NaN  34.0210 -118.3002  \n",
       "\n",
       "[3 rows x 28 columns]"
      ]
     },
     "execution_count": 167,
     "metadata": {},
     "output_type": "execute_result"
    }
   ],
   "source": [
    "df.head(3)"
   ]
  },
  {
   "cell_type": "markdown",
   "metadata": {},
   "source": [
    "### **Improving Readability**\n",
    "\n",
    "To enhance the clarity of the DataFrame, we will implement the following changes:\n",
    "\n",
    "- Rename the `'Vict Desc'` column to its actual name using mapping.\n",
    "- Change the column name from `'LOCATION'` to `'Address'`.\n",
    "- Rename the column `'Vict descent'` to `'Victim Ethnicity'`.\n",
    "\n",
    "These adjustments will improve readability and facilitate analysis.\n"
   ]
  },
  {
   "cell_type": "code",
   "execution_count": 168,
   "metadata": {},
   "outputs": [],
   "source": [
    "#turn df['Vict Descent'] into ethnicity\n",
    "Ethnicity_mapping = {'A':'Other Asian', 'B': 'Black', 'C': 'Chinese','D':'Cambodian', 'F':'Filipino',\n",
    "                     'G':'Guamanian','H':'Hispanic','I':'American Indian','J':'Japanese','K':'Korean',\n",
    "                     'L':'Loation','O':'Other','P': 'Pacific Islander','S':'Samoan','U':'Hawaiian',\n",
    "                     'V':'Vietnamese','W':'White','X':'Unkown','Z':'Asian Indian'}\n",
    "df['Vict Descent'] = df['Vict Descent'].map(Ethnicity_mapping)"
   ]
  },
  {
   "cell_type": "code",
   "execution_count": 169,
   "metadata": {},
   "outputs": [],
   "source": [
    "#Renaming columns\n",
    "df.rename(columns = {'LOCATION':'Address','Vict Descent': 'victim ethnicity'},inplace = True)"
   ]
  },
  {
   "cell_type": "markdown",
   "metadata": {},
   "source": [
    "### **Fixing Spacing Issues**\n",
    "\n",
    "To enhance the consistency and readability of the **Address** column (previously labeled as **LOCATION**), I removed extra spaces within the text. Utilizing Python's `re` package, I replaced multiple spaces with a single space and stripped any leading or trailing spaces. This cleanup ensures a more uniform presentation of address data.\n"
   ]
  },
  {
   "cell_type": "code",
   "execution_count": 170,
   "metadata": {},
   "outputs": [
    {
     "data": {
      "text/plain": [
       "0    1900 S  LONGWOOD                     AV\n",
       "1    1000 S  FLOWER                       ST\n",
       "2    1400 W  37TH                         ST\n",
       "Name: Address, dtype: object"
      ]
     },
     "execution_count": 170,
     "metadata": {},
     "output_type": "execute_result"
    }
   ],
   "source": [
    "df['Address'].head(3)"
   ]
  },
  {
   "cell_type": "code",
   "execution_count": 171,
   "metadata": {},
   "outputs": [],
   "source": [
    "import re\n",
    "def replace_multiple_spaces(location):\n",
    "    return re.sub(r'\\s+', ' ', location.strip())\n",
    "df['Address'] = df['Address'].apply(replace_multiple_spaces)"
   ]
  },
  {
   "cell_type": "code",
   "execution_count": 172,
   "metadata": {},
   "outputs": [
    {
     "data": {
      "text/plain": [
       "0    1900 S LONGWOOD AV\n",
       "1      1000 S FLOWER ST\n",
       "2        1400 W 37TH ST\n",
       "Name: Address, dtype: object"
      ]
     },
     "execution_count": 172,
     "metadata": {},
     "output_type": "execute_result"
    }
   ],
   "source": [
    "df['Address'].head(3)"
   ]
  },
  {
   "cell_type": "markdown",
   "metadata": {},
   "source": [
    "### **Identifying Outliers**\n",
    "\n",
    "Since 2024 is an incomplete year, any yearly or monthly comparisons across the four-year period may be skewed, as the data for 2024 does not represent a full year."
   ]
  },
  {
   "cell_type": "code",
   "execution_count": 174,
   "metadata": {},
   "outputs": [
    {
     "data": {
      "text/html": [
       "<div>\n",
       "<style scoped>\n",
       "    .dataframe tbody tr th:only-of-type {\n",
       "        vertical-align: middle;\n",
       "    }\n",
       "\n",
       "    .dataframe tbody tr th {\n",
       "        vertical-align: top;\n",
       "    }\n",
       "\n",
       "    .dataframe thead th {\n",
       "        text-align: right;\n",
       "    }\n",
       "</style>\n",
       "<table border=\"1\" class=\"dataframe\">\n",
       "  <thead>\n",
       "    <tr style=\"text-align: right;\">\n",
       "      <th></th>\n",
       "      <th>Year</th>\n",
       "      <th>Crime reported</th>\n",
       "    </tr>\n",
       "  </thead>\n",
       "  <tbody>\n",
       "    <tr>\n",
       "      <th>0</th>\n",
       "      <td>2020</td>\n",
       "      <td>199776</td>\n",
       "    </tr>\n",
       "    <tr>\n",
       "      <th>1</th>\n",
       "      <td>2021</td>\n",
       "      <td>209791</td>\n",
       "    </tr>\n",
       "    <tr>\n",
       "      <th>2</th>\n",
       "      <td>2022</td>\n",
       "      <td>235136</td>\n",
       "    </tr>\n",
       "    <tr>\n",
       "      <th>3</th>\n",
       "      <td>2023</td>\n",
       "      <td>232093</td>\n",
       "    </tr>\n",
       "    <tr>\n",
       "      <th>4</th>\n",
       "      <td>2024</td>\n",
       "      <td>101832</td>\n",
       "    </tr>\n",
       "  </tbody>\n",
       "</table>\n",
       "</div>"
      ],
      "text/plain": [
       "   Year  Crime reported\n",
       "0  2020          199776\n",
       "1  2021          209791\n",
       "2  2022          235136\n",
       "3  2023          232093\n",
       "4  2024          101832"
      ]
     },
     "execution_count": 174,
     "metadata": {},
     "output_type": "execute_result"
    }
   ],
   "source": [
    "df['Year'] = df['DATE OCC'].dt.year\n",
    "df['Month'] = df['DATE OCC'].dt.month\n",
    "df.groupby('Year').size().reset_index(name = 'Crime reported')"
   ]
  },
  {
   "cell_type": "markdown",
   "metadata": {},
   "source": [
    "<h2 style=\"color: blue;\">Data Transformation</h2>"
   ]
  },
  {
   "cell_type": "markdown",
   "metadata": {},
   "source": [
    "### **Adding Columns**\n",
    "\n",
    "The Report Delay column was added to explore potential insights into the speed at which cases are reported. This raises further questions about factors or trends that might influence whether and how quickly a case is reported."
   ]
  },
  {
   "cell_type": "code",
   "execution_count": 175,
   "metadata": {},
   "outputs": [],
   "source": [
    "df['Report Delay'] = df['Date Rptd'] - df['DATE OCC']"
   ]
  },
  {
   "cell_type": "markdown",
   "metadata": {},
   "source": [
    "### **Grouping Crimes**\n",
    "\n",
    "The 'Crm Cd Desc' column shows the crime associated with each case. Since many of the crime descriptions share similarities, grouping them could provide valuable insights into the most prevalent types of crime.<br> **This was done in Tableau Visualization**"
   ]
  },
  {
   "cell_type": "markdown",
   "metadata": {},
   "source": [
    "<h2 style=\"color: blue;\">Visualizations</h2>"
   ]
  },
  {
   "cell_type": "markdown",
   "metadata": {},
   "source": [
    "### **Questions to Answer**\n",
    "\n",
    "- What does the distribution of crime look like per year and month?  \n",
    "  (Which months have the highest crime rates? Which year had the highest crime rate?)\n",
    "\n",
    "- What were the most common crimes in the month and year that recorded the highest crime rates?\n",
    "- Which ethnicities had the highest number of victims?  \n",
    "\n",
    "- What is the most common crime committed against victims under 18 years of age? Under 10 years of age?  \n",
    "\n",
    "- What are the most frequently used weapons in crimes?  \n",
    "\n",
    "- Which area has had the highest reported crime rate since 2020?  \n",
    "\n",
    "- Which area has a higher number of female versus male crime victims?  \n",
    "\n",
    "- Are there any crimes with a significant reporting delay?\n"
   ]
  },
  {
   "cell_type": "markdown",
   "metadata": {},
   "source": [
    "# Comparison Between Years (2020-2023)\n",
    "\n",
    "The next three graphs will focus on the years **2020 to 2023** to compare complete years and identify trends, as these years contain a full set of data. Comparisons with 2024 cannot be made at this time, as the year is still incomplete.\n"
   ]
  },
  {
   "cell_type": "markdown",
   "metadata": {},
   "source": [
    "## Crime Rate Visualization\n",
    "\n",
    "**Key Findings:**  \n",
    "The crime rate remained relatively stable from 2020 to 2021, followed by a slight increase in 2022. This was then followed by a minor decrease in 2023."
   ]
  },
  {
   "cell_type": "code",
   "execution_count": 241,
   "metadata": {},
   "outputs": [
    {
     "data": {
      "text/plain": [
       "Text(0, 0.5, 'Crime amount')"
      ]
     },
     "execution_count": 241,
     "metadata": {},
     "output_type": "execute_result"
    },
    {
     "data": {
      "image/png": "[encoded data removed]",
      "text/plain": [
       "<Figure size 432x288 with 1 Axes>"
      ]
     },
     "metadata": {
      "needs_background": "light"
     },
     "output_type": "display_data"
    }
   ],
   "source": [
    "# get df with just specific years\n",
    "years_upto_2023 = df[df['Year'].isin([2020,2021,2022,2023])]\n",
    "sns.countplot(years_upto_2023['Year'])\n",
    "plt.title('Crime 2020-2023')\n",
    "plt.xlabel('Year',fontweight='bold')\n",
    "plt.ylabel('Crime amount')"
   ]
  },
  {
   "cell_type": "markdown",
   "metadata": {},
   "source": [
    "## **Crime Trends Overview**\n",
    "\n",
    "### **Left Graph: Total Crime by Year**\n",
    "\n",
    "This line graph illustrates the total number of reported crimes for each year from 2020 to 2023. Key insights include:\n",
    "- **Rising Trend**: There is a noticeable upward trend in crime over the years, with a significant increase starting in 2021.\n",
    "- **Peak in 2022**: The highest crime rate is observed in 2022, followed by a slight decline in 2023.\n",
    "\n",
    "This overall pattern indicates an increase in crime rates over time, culminating in a peak in 2022.\n",
    "\n",
    "### **Right Graph: Crime by Month**\n",
    "\n",
    "The bar chart depicts monthly crime counts for the period from 2020 to 2023. Key insights include:\n",
    "- **Seasonal Variation**: Crime rates fluctuate significantly by month, revealing distinct seasonal patterns.\n",
    "- **Highest Crime Months**: The months with the highest crime rates are **July**, **August**, and **October**.\n",
    "- **Lowest Crime Month**: February consistently shows the lowest crime counts, suggesting a potential seasonal dip in crime. \n",
    "\n",
    "Additionally, December, January, May, June, and July display similar crime rates.\n",
    "\n",
    "The monthly trend indicates that crime rates tend to rise during the summer and early fall, peaking in October, while winter months, especially February, experience a decline in incidents.\n"
   ]
  },
  {
   "cell_type": "code",
   "execution_count": 187,
   "metadata": {},
   "outputs": [
    {
     "data": {
      "image/png": "[encoded data removed]",
      "text/plain": [
       "<Figure size 864x432 with 2 Axes>"
      ]
     },
     "metadata": {
      "needs_background": "light"
     },
     "output_type": "display_data"
    }
   ],
   "source": [
    "fig, axes = plt.subplots(nrows=1, ncols=2, figsize=(12, 6))\n",
    "\n",
    "# Plot the first line plot\n",
    "crime_upto_2023 = years_upto_2023.groupby('Year').size().reset_index(name='Crime amount')\n",
    "sns.lineplot(x = crime_upto_2023['Year'], y = crime_upto_2023['Crime amount'], ax = axes[0])\n",
    "axes[0].set_title('Total Crime by Year',fontweight = 'bold')\n",
    "axes[0].set_xlabel('Year',fontweight='bold')\n",
    "axes[0].set_ylabel('Crime amount')\n",
    "\n",
    "# Create the count plot\n",
    "\n",
    "sns.countplot(years_upto_2023['Month'],ax = axes[1])\n",
    "\n",
    "# Set the starting value for the y-axis\n",
    "axes[1].set_ylim(68000, 77000)  # Set the minimum value to 1\n",
    "\n",
    "# Customize the plot\n",
    "axes[1].set_title('Crime by Month',fontweight = 'bold')\n",
    "axes[1].set_xlabel('Month')\n",
    "axes[1].set_ylabel('Amount of crimes')\n",
    "\n",
    "# Add overall title\n",
    "plt.suptitle('Crimes Trends Overview 2020-2023', fontsize=16,fontweight='bold')\n",
    "\n",
    "# increase space between plots\n",
    "plt.subplots_adjust(wspace=0.4) \n",
    "plt.show()"
   ]
  },
  {
   "cell_type": "markdown",
   "metadata": {},
   "source": [
    "# **Visualization of Monthly Crime Rates for Each Year (2020-2023)**\n",
    "\n",
    "This line graph illustrates monthly crime trends across four years (2020 to 2023), with each line representing a different year. This allows for easy comparison of seasonal crime patterns. Similar trends found as the **Right Graph: Crime by Month** from above:\n",
    "\n",
    "- **January to February Drop**: All years show a decrease in crime between January and February, indicating a common seasonal dip during this period.\n",
    "- **Mid-Year Increase**: Between June and July, there is a slight uptick in crime across most years, suggesting a recurring mid-year rise.\n",
    "- **Late-Year Peaks and Drops**: Crime rates tend to drop in September, followed by a sharp increase in October across multiple years. This peak is then typically followed by another decline in November.\n",
    "\n",
    "These patterns suggest consistent seasonal variations in crime rates, with distinct drops at the beginning and end of the year and an increase in mid-summer and early fall. The month of October consistently shows the most significant increase in crime, followed by a drop in November, which may reflect annual factors affecting crime rates during this period.\n"
   ]
  },
  {
   "cell_type": "code",
   "execution_count": 99,
   "metadata": {},
   "outputs": [
    {
     "data": {
      "image/png": "[encoded data removed]",
      "text/plain": [
       "<Figure size 864x504 with 1 Axes>"
      ]
     },
     "metadata": {
      "needs_background": "light"
     },
     "output_type": "display_data"
    }
   ],
   "source": [
    "crime2020 = df[df['DATE OCC'].dt.year == 2020] #gets dataframe for each specific year\n",
    "monthly_crime_2020 = crime2020.groupby('Month').size().reset_index(name='monthly_count')\n",
    "monthly_crime_2020['Year'] = 2020  # Add a year column for 2020\n",
    "\n",
    "crime2021 = df[df['DATE OCC'].dt.year == 2021]\n",
    "monthly_crime_2021 = crime2021.groupby('Month').size().reset_index(name='monthly_count')\n",
    "monthly_crime_2021['Year'] = 2021  # Add a year column for 2021\n",
    "\n",
    "crime2022 = df[df['DATE OCC'].dt.year == 2022]\n",
    "monthly_crime_2022 = crime2022.groupby('Month').size().reset_index(name='monthly_count')\n",
    "monthly_crime_2022['Year'] = 2022  # Add a year column for 2022\n",
    "\n",
    "crime2023 = df[df['DATE OCC'].dt.year == 2023]\n",
    "monthly_crime_2023 = crime2023.groupby('Month').size().reset_index(name='monthly_count')\n",
    "monthly_crime_2023['Year'] = 2023  # Add a year column for 2023\n",
    "\n",
    "# Concatenate the two DataFrames\n",
    "monthly_crime = pd.concat([monthly_crime_2020, monthly_crime_2021,monthly_crime_2022,monthly_crime_2023])\n",
    "\n",
    "# Define a color palette with contrasting colors\n",
    "palette = sns.color_palette(\"tab10\", n_colors=4)\n",
    "\n",
    "# Plot the data\n",
    "plt.figure(figsize=(12, 7))\n",
    "sns.lineplot(\n",
    "    data=monthly_crime,\n",
    "    x='Month',\n",
    "    y='monthly_count',\n",
    "    hue='Year',\n",
    "    marker=\"o\",\n",
    "    palette=palette,\n",
    "    linewidth=2.5  # Keep lines thick for visibility\n",
    ")\n",
    "\n",
    "# Remove the default legend and add a custom one\n",
    "plt.legend(\n",
    "    loc='upper left',           # Position the legend at the top center\n",
    "    bbox_to_anchor=(1.05, 1),   # Adjust position slightly above the plot\n",
    "    borderaxespad=0,\n",
    "    title_fontsize='13',           # Increase font size of the title\n",
    "    prop={'size': 12},)             # Increase font size of legend labels\n",
    "                        \n",
    "\n",
    "# Add labels and title\n",
    "plt.title('Crimes by Month (2020-2023)', fontsize=14)\n",
    "plt.ylabel('Number of Crimes', fontsize=12)\n",
    "plt.xlabel('Month', fontsize=12)\n",
    "\n",
    "# Rotate x-ticks if necessary for better readability\n",
    "plt.xticks(monthly_crime_2020['Month'])\n",
    "\n",
    "# Show plot with layout adjustments\n",
    "plt.tight_layout()\n",
    "plt.show()\n"
   ]
  },
  {
   "cell_type": "markdown",
   "metadata": {},
   "source": [
    "# **Top Types of Crime (2020-2023)**\n",
    "\n",
    "**Using the information from the graphs above**, October is identified as the month with the highest crime rates, while 2020 is noted as the year with the highest overall crime rates.\n",
    "\n",
    "### **Key Findings:**\n",
    "\n",
    "- **Highest Crime Month: October**\n",
    "  - The top 5 crimes recorded are:\n",
    "    1. Vehicle Theft\n",
    "    2. Simple Assault (Battery)\n",
    "    3. Burglary from Vehicle\n",
    "    4. Identity Theft\n",
    "    5. Vandalism\n",
    "\n",
    "- **Highest Crime Year: 2020**\n",
    "  - The top 5 crimes recorded are:\n",
    "    1. Vehicle Theft\n",
    "    2. Identity Theft\n",
    "    3. Simple Assault (Battery)\n",
    "    4. Burglary from Vehicle\n",
    "    5. Burglary\n",
    "\n",
    "Overall, vehicle theft remains the most common crime across both the month of October and the year 2020.\n"
   ]
  },
  {
   "cell_type": "markdown",
   "metadata": {},
   "source": [
    "**Top 5 crimes in October (the highest crime month)**"
   ]
  },
  {
   "cell_type": "code",
   "execution_count": 21,
   "metadata": {},
   "outputs": [
    {
     "data": {
      "text/plain": [
       "VEHICLE - STOLEN                                           8492\n",
       "BATTERY - SIMPLE ASSAULT                                   6199\n",
       "BURGLARY FROM VEHICLE                                      4744\n",
       "THEFT OF IDENTITY                                          4640\n",
       "VANDALISM - FELONY ($400 & OVER, ALL CHURCH VANDALISMS)    4566\n",
       "Name: Crm Cd Desc, dtype: int64"
      ]
     },
     "execution_count": 21,
     "metadata": {},
     "output_type": "execute_result"
    }
   ],
   "source": [
    "years_upto_20203[years_upto_20203['Month'] == 10]['Crm Cd Desc'].value_counts().head()"
   ]
  },
  {
   "cell_type": "markdown",
   "metadata": {},
   "source": [
    "**Top 5 crimes in the year 2022 (The highest crime year)**"
   ]
  },
  {
   "cell_type": "code",
   "execution_count": 22,
   "metadata": {},
   "outputs": [
    {
     "data": {
      "text/plain": [
       "VEHICLE - STOLEN            24741\n",
       "THEFT OF IDENTITY           22123\n",
       "BATTERY - SIMPLE ASSAULT    18058\n",
       "BURGLARY FROM VEHICLE       14231\n",
       "BURGLARY                    14069\n",
       "Name: Crm Cd Desc, dtype: int64"
      ]
     },
     "execution_count": 22,
     "metadata": {},
     "output_type": "execute_result"
    }
   ],
   "source": [
    "years_upto_20203[years_upto_20203['Year'] == 2022]['Crm Cd Desc'].value_counts().head()"
   ]
  },
  {
   "cell_type": "markdown",
   "metadata": {},
   "source": [
    "### This next analysis will focus on the years 2020 to the present. Rather than comparing data year by year, we will be identifying trends across the overall dataset.\n"
   ]
  },
  {
   "cell_type": "markdown",
   "metadata": {},
   "source": [
    "## **Victims by Ethnicity (2020-Present)** \n",
    "*(Only displaying victims with 1,000 or more cases)*\n",
    "\n",
    "### **Key Findings:**\n",
    "- Hispanics constitute the largest group of victims in all reported crimes since 2020.\n",
    "- Other ethnicities follow, with Asian victims representing the lowest numbers.\n",
    "- The high number of Hispanic victims reflects demographic trends, as they represent the largest population group in Los Angeles.\n"
   ]
  },
  {
   "cell_type": "code",
   "execution_count": 238,
   "metadata": {},
   "outputs": [
    {
     "data": {
      "text/plain": [
       "(array([ 0,  1,  2,  3,  4,  5,  6,  7,  8,  9, 10]),\n",
       " <a list of 11 Text xticklabel objects>)"
      ]
     },
     "execution_count": 238,
     "metadata": {},
     "output_type": "execute_result"
    },
    {
     "data": {
      "image/png": "[encoded data removed]",
      "text/plain": [
       "<Figure size 432x288 with 1 Axes>"
      ]
     },
     "metadata": {
      "needs_background": "light"
     },
     "output_type": "display_data"
    }
   ],
   "source": [
    "#this shows only ethnicities with victims number being over 1000\n",
    "ethnicity_count = df['victim ethnicity'].value_counts()\n",
    "filtered_ethnicity = ethnicity_count[df['victim ethnicity'].value_counts() > 1000].index\n",
    "\n",
    "#gets dataframe with just these ethnicities\n",
    "new_filter = df[df['victim ethnicity'].isin(filtered_ethnicity)]\n",
    "\n",
    "sns.countplot(new_filter['victim ethnicity'],order = new_filter['victim ethnicity'].value_counts().index)\n",
    "plt.xticks(rotation = 75)"
   ]
  },
  {
   "cell_type": "markdown",
   "metadata": {},
   "source": [
    "## **Most Common Types of Crime for Victims Aged 18 and Under**\n",
    "\n",
    "\n",
    "### **Key Findings:**\n",
    "The top three crimes affecting this age group are:\n",
    "- **Battery (Simple Assault):** This is the most prevalent crime, with an average victim age of 15.\n",
    "- **Child Abuse:** This crime follows, with an average victim age of 11.\n",
    "- **Assault with a Deadly Weapon:** This crime also has an average victim age of 15.\n"
   ]
  },
  {
   "cell_type": "code",
   "execution_count": 330,
   "metadata": {},
   "outputs": [
    {
     "data": {
      "text/html": [
       "<div>\n",
       "<style scoped>\n",
       "    .dataframe tbody tr th:only-of-type {\n",
       "        vertical-align: middle;\n",
       "    }\n",
       "\n",
       "    .dataframe tbody tr th {\n",
       "        vertical-align: top;\n",
       "    }\n",
       "\n",
       "    .dataframe thead th {\n",
       "        text-align: right;\n",
       "    }\n",
       "</style>\n",
       "<table border=\"1\" class=\"dataframe\">\n",
       "  <thead>\n",
       "    <tr style=\"text-align: right;\">\n",
       "      <th></th>\n",
       "      <th>Crm Cd Desc</th>\n",
       "      <th>Average age of victims</th>\n",
       "      <th>Amount of crimes</th>\n",
       "    </tr>\n",
       "  </thead>\n",
       "  <tbody>\n",
       "    <tr>\n",
       "      <th>1</th>\n",
       "      <td>BATTERY - SIMPLE ASSAULT</td>\n",
       "      <td>15.0</td>\n",
       "      <td>4910</td>\n",
       "    </tr>\n",
       "    <tr>\n",
       "      <th>2</th>\n",
       "      <td>CHILD ABUSE (PHYSICAL) - SIMPLE ASSAULT</td>\n",
       "      <td>11.0</td>\n",
       "      <td>3403</td>\n",
       "    </tr>\n",
       "    <tr>\n",
       "      <th>0</th>\n",
       "      <td>ASSAULT WITH DEADLY WEAPON, AGGRAVATED ASSAULT</td>\n",
       "      <td>15.0</td>\n",
       "      <td>3104</td>\n",
       "    </tr>\n",
       "    <tr>\n",
       "      <th>8</th>\n",
       "      <td>ROBBERY</td>\n",
       "      <td>16.0</td>\n",
       "      <td>1838</td>\n",
       "    </tr>\n",
       "    <tr>\n",
       "      <th>6</th>\n",
       "      <td>CRM AGNST CHLD (13 OR UNDER) (14-15 &amp; SUSP 10 ...</td>\n",
       "      <td>10.0</td>\n",
       "      <td>1696</td>\n",
       "    </tr>\n",
       "    <tr>\n",
       "      <th>9</th>\n",
       "      <td>SEX,UNLAWFUL(INC MUTUAL CONSENT, PENETRATION W...</td>\n",
       "      <td>15.0</td>\n",
       "      <td>1007</td>\n",
       "    </tr>\n",
       "    <tr>\n",
       "      <th>3</th>\n",
       "      <td>CHILD ANNOYING (17YRS &amp; UNDER)</td>\n",
       "      <td>13.0</td>\n",
       "      <td>1002</td>\n",
       "    </tr>\n",
       "    <tr>\n",
       "      <th>7</th>\n",
       "      <td>INTIMATE PARTNER - SIMPLE ASSAULT</td>\n",
       "      <td>17.0</td>\n",
       "      <td>983</td>\n",
       "    </tr>\n",
       "    <tr>\n",
       "      <th>5</th>\n",
       "      <td>CRIMINAL THREATS - NO WEAPON DISPLAYED</td>\n",
       "      <td>14.0</td>\n",
       "      <td>974</td>\n",
       "    </tr>\n",
       "    <tr>\n",
       "      <th>4</th>\n",
       "      <td>CHILD NEGLECT (SEE 300 W.I.C.)</td>\n",
       "      <td>8.0</td>\n",
       "      <td>941</td>\n",
       "    </tr>\n",
       "  </tbody>\n",
       "</table>\n",
       "</div>"
      ],
      "text/plain": [
       "                                         Crm Cd Desc  Average age of victims  \\\n",
       "1                           BATTERY - SIMPLE ASSAULT                    15.0   \n",
       "2            CHILD ABUSE (PHYSICAL) - SIMPLE ASSAULT                    11.0   \n",
       "0     ASSAULT WITH DEADLY WEAPON, AGGRAVATED ASSAULT                    15.0   \n",
       "8                                            ROBBERY                    16.0   \n",
       "6  CRM AGNST CHLD (13 OR UNDER) (14-15 & SUSP 10 ...                    10.0   \n",
       "9  SEX,UNLAWFUL(INC MUTUAL CONSENT, PENETRATION W...                    15.0   \n",
       "3                     CHILD ANNOYING (17YRS & UNDER)                    13.0   \n",
       "7                  INTIMATE PARTNER - SIMPLE ASSAULT                    17.0   \n",
       "5             CRIMINAL THREATS - NO WEAPON DISPLAYED                    14.0   \n",
       "4                     CHILD NEGLECT (SEE 300 W.I.C.)                     8.0   \n",
       "\n",
       "   Amount of crimes  \n",
       "1              4910  \n",
       "2              3403  \n",
       "0              3104  \n",
       "8              1838  \n",
       "6              1696  \n",
       "9              1007  \n",
       "3              1002  \n",
       "7               983  \n",
       "5               974  \n",
       "4               941  "
      ]
     },
     "execution_count": 330,
     "metadata": {},
     "output_type": "execute_result"
    }
   ],
   "source": [
    "#all victims 18 and under\n",
    "Young_victims = df[(df['Vict Age'] <= 18)]\n",
    "\n",
    "#This gets me the top 10 highest crimes and the amount of crimes\n",
    "crime_description = Young_victims.groupby('Crm Cd Desc').size().reset_index(name = 'Amount of crimes')\n",
    "#This sorts from highest amount to lowest, also gets only the top 10\n",
    "highest_amount = crime_description.sort_values(by='Amount of crimes', ascending=False).head(10)\n",
    "# highest_amount\n",
    "#just shows all Young_victims with top 10 crimes \n",
    "top_crimes_young = Young_victims[Young_victims['Crm Cd Desc'].isin(highest_amount['Crm Cd Desc'])]\n",
    "#gets average age for each top 10 crime\n",
    "age_victim = top_crimes_young.groupby('Crm Cd Desc')['Vict Age'].mean().round(0).reset_index(name = 'Average age of victims' )\n",
    "# age_victim\n",
    "\n",
    "#combine both into one dataframe \n",
    "combined = pd.merge(age_victim, highest_amount, on='Crm Cd Desc', how='inner') \n",
    "\n",
    "sort_combined = combined.sort_values(by = 'Amount of crimes', ascending = False)\n",
    "sort_combined"
   ]
  },
  {
   "cell_type": "markdown",
   "metadata": {},
   "source": [
    "## **Most Common Types of Crime for Victims Aged 10 and Under**\n",
    "\n",
    "Due to differences in the types of crimes that affect younger children and teenagers, the following are the top three crimes impacting children aged 10 and under:\n",
    "\n",
    "### **Key Findings:**\n",
    "The top three crimes affecting this age group are:\n",
    "- **Child Abuse:** The average victim age is 7.\n",
    "- **Crimes Against Children (Ages 13 and Under):** The average victim age is 10.\n",
    "- **Child Neglect:** The average victim age is 5.\n"
   ]
  },
  {
   "cell_type": "code",
   "execution_count": 332,
   "metadata": {},
   "outputs": [
    {
     "data": {
      "text/html": [
       "<div>\n",
       "<style scoped>\n",
       "    .dataframe tbody tr th:only-of-type {\n",
       "        vertical-align: middle;\n",
       "    }\n",
       "\n",
       "    .dataframe tbody tr th {\n",
       "        vertical-align: top;\n",
       "    }\n",
       "\n",
       "    .dataframe thead th {\n",
       "        text-align: right;\n",
       "    }\n",
       "</style>\n",
       "<table border=\"1\" class=\"dataframe\">\n",
       "  <thead>\n",
       "    <tr style=\"text-align: right;\">\n",
       "      <th></th>\n",
       "      <th>Crm Cd Desc</th>\n",
       "      <th>Average age of victims</th>\n",
       "      <th>Amount of crimes</th>\n",
       "    </tr>\n",
       "  </thead>\n",
       "  <tbody>\n",
       "    <tr>\n",
       "      <th>3</th>\n",
       "      <td>CHILD ABUSE (PHYSICAL) - SIMPLE ASSAULT</td>\n",
       "      <td>7.0</td>\n",
       "      <td>1364</td>\n",
       "    </tr>\n",
       "    <tr>\n",
       "      <th>7</th>\n",
       "      <td>CRM AGNST CHLD (13 OR UNDER) (14-15 &amp; SUSP 10 ...</td>\n",
       "      <td>7.0</td>\n",
       "      <td>772</td>\n",
       "    </tr>\n",
       "    <tr>\n",
       "      <th>5</th>\n",
       "      <td>CHILD NEGLECT (SEE 300 W.I.C.)</td>\n",
       "      <td>5.0</td>\n",
       "      <td>672</td>\n",
       "    </tr>\n",
       "    <tr>\n",
       "      <th>0</th>\n",
       "      <td>ASSAULT WITH DEADLY WEAPON, AGGRAVATED ASSAULT</td>\n",
       "      <td>6.0</td>\n",
       "      <td>340</td>\n",
       "    </tr>\n",
       "    <tr>\n",
       "      <th>1</th>\n",
       "      <td>BATTERY - SIMPLE ASSAULT</td>\n",
       "      <td>7.0</td>\n",
       "      <td>336</td>\n",
       "    </tr>\n",
       "    <tr>\n",
       "      <th>4</th>\n",
       "      <td>CHILD ANNOYING (17YRS &amp; UNDER)</td>\n",
       "      <td>8.0</td>\n",
       "      <td>177</td>\n",
       "    </tr>\n",
       "    <tr>\n",
       "      <th>2</th>\n",
       "      <td>CHILD ABUSE (PHYSICAL) - AGGRAVATED ASSAULT</td>\n",
       "      <td>7.0</td>\n",
       "      <td>172</td>\n",
       "    </tr>\n",
       "    <tr>\n",
       "      <th>8</th>\n",
       "      <td>SEXUAL PENETRATION W/FOREIGN OBJECT</td>\n",
       "      <td>6.0</td>\n",
       "      <td>158</td>\n",
       "    </tr>\n",
       "    <tr>\n",
       "      <th>6</th>\n",
       "      <td>CRIMINAL THREATS - NO WEAPON DISPLAYED</td>\n",
       "      <td>6.0</td>\n",
       "      <td>99</td>\n",
       "    </tr>\n",
       "    <tr>\n",
       "      <th>9</th>\n",
       "      <td>VIOLATION OF RESTRAINING ORDER</td>\n",
       "      <td>6.0</td>\n",
       "      <td>84</td>\n",
       "    </tr>\n",
       "  </tbody>\n",
       "</table>\n",
       "</div>"
      ],
      "text/plain": [
       "                                         Crm Cd Desc  Average age of victims  \\\n",
       "3            CHILD ABUSE (PHYSICAL) - SIMPLE ASSAULT                     7.0   \n",
       "7  CRM AGNST CHLD (13 OR UNDER) (14-15 & SUSP 10 ...                     7.0   \n",
       "5                     CHILD NEGLECT (SEE 300 W.I.C.)                     5.0   \n",
       "0     ASSAULT WITH DEADLY WEAPON, AGGRAVATED ASSAULT                     6.0   \n",
       "1                           BATTERY - SIMPLE ASSAULT                     7.0   \n",
       "4                     CHILD ANNOYING (17YRS & UNDER)                     8.0   \n",
       "2        CHILD ABUSE (PHYSICAL) - AGGRAVATED ASSAULT                     7.0   \n",
       "8                SEXUAL PENETRATION W/FOREIGN OBJECT                     6.0   \n",
       "6             CRIMINAL THREATS - NO WEAPON DISPLAYED                     6.0   \n",
       "9                     VIOLATION OF RESTRAINING ORDER                     6.0   \n",
       "\n",
       "   Amount of crimes  \n",
       "3              1364  \n",
       "7               772  \n",
       "5               672  \n",
       "0               340  \n",
       "1               336  \n",
       "4               177  \n",
       "2               172  \n",
       "8               158  \n",
       "6                99  \n",
       "9                84  "
      ]
     },
     "execution_count": 332,
     "metadata": {},
     "output_type": "execute_result"
    }
   ],
   "source": [
    "#all victims 5 and under\n",
    "Young_victims = df[(df['Vict Age'] <= 10)]\n",
    "\n",
    "#This gets me the top 10 highest crimes and the amount of crimes\n",
    "crime_description = Young_victims.groupby('Crm Cd Desc').size().reset_index(name = 'Amount of crimes')\n",
    "#This sorts from highest amount to lowest, also gets only the top 10\n",
    "highest_amount = crime_description.sort_values(by='Amount of crimes', ascending=False).head(10)\n",
    "\n",
    "#just shows all Young_victims with top 10 crimes \n",
    "top_crimes_young = Young_victims[Young_victims['Crm Cd Desc'].isin(highest_amount['Crm Cd Desc'])]\n",
    "#gets average age for each top 10 crime\n",
    "age_victim = top_crimes_young.groupby('Crm Cd Desc')['Vict Age'].mean().round(0).reset_index(name = 'Average age of victims' )\n",
    "\n",
    "#combine both into one dataframe \n",
    "combined = pd.merge(age_victim, highest_amount, on='Crm Cd Desc', how='inner') \n",
    "sort_combined = combined.sort_values(by = 'Amount of crimes', ascending = False)\n",
    "sort_combined"
   ]
  },
  {
   "cell_type": "markdown",
   "metadata": {},
   "source": [
    "## **Top 10 Most Used Weapons**\n",
    "\n",
    "The following are the most commonly used weapons in reported cases:\n",
    "\n",
    "1. **Strong-Arm (Hands, Fists, Feet, or Bodily Force):** 174,349 cases\n",
    "2. **Unknown Weapon:** 35,869 cases\n",
    "3. **Verbal Threat:** 23,793 cases\n",
    "4. **Handgun:** 20,093 cases\n"
   ]
  },
  {
   "cell_type": "code",
   "execution_count": 37,
   "metadata": {},
   "outputs": [
    {
     "data": {
      "text/plain": [
       "STRONG-ARM (HANDS, FIST, FEET OR BODILY FORCE)    174349\n",
       "UNKNOWN WEAPON/OTHER WEAPON                        35869\n",
       "VERBAL THREAT                                      23793\n",
       "HAND GUN                                           20093\n",
       "SEMI-AUTOMATIC PISTOL                               7240\n",
       "KNIFE WITH BLADE 6INCHES OR LESS                    6822\n",
       "UNKNOWN FIREARM                                     6566\n",
       "OTHER KNIFE                                         5867\n",
       "MACE/PEPPER SPRAY                                   3728\n",
       "VEHICLE                                             3240\n",
       "Name: Weapon Desc, dtype: int64"
      ]
     },
     "execution_count": 37,
     "metadata": {},
     "output_type": "execute_result"
    }
   ],
   "source": [
    "df['Weapon Desc'].value_counts().head(10)"
   ]
  },
  {
   "cell_type": "markdown",
   "metadata": {},
   "source": [
    "## **Areas with the Highest Crime Rates**\n",
    "\n",
    "The top five areas with the highest reported crime rates are **Central**, **77th Street**, **Pacific**, **Southwest**, and **Hollywood**. In comparison, **Foothill** has the lowest reported crime rate among all areas.\n"
   ]
  },
  {
   "cell_type": "code",
   "execution_count": 55,
   "metadata": {},
   "outputs": [
    {
     "data": {
      "text/plain": [
       "(array([ 0,  1,  2,  3,  4,  5,  6,  7,  8,  9, 10, 11, 12, 13, 14, 15, 16,\n",
       "        17, 18, 19, 20]), <a list of 21 Text xticklabel objects>)"
      ]
     },
     "execution_count": 55,
     "metadata": {},
     "output_type": "execute_result"
    },
    {
     "data": {
      "image/png": "[encoded data removed]",
      "text/plain": [
       "<Figure size 720x432 with 1 Axes>"
      ]
     },
     "metadata": {
      "needs_background": "light"
     },
     "output_type": "display_data"
    }
   ],
   "source": [
    "plt.figure(figsize=(10, 6))\n",
    "sns.countplot(df['AREA NAME'],order = df['AREA NAME'].value_counts().index)\n",
    "plt.xticks(rotation = 75)"
   ]
  },
  {
   "cell_type": "markdown",
   "metadata": {},
   "source": [
    "## **Gender Distribution of Crime Victims by Area**\n",
    "\n",
    "This analysis explores the distribution of male and female crime victims across various areas. Key findings are highlighted below:\n",
    "\n",
    "- **Areas with More Female Victims**:  \n",
    "   Four areas—**77th Street, Harbor, Southeast, and Southwest**—report a higher number of female victims than male victims.\n",
    "\n",
    "- **Areas with Close Gender Ratios**:  \n",
    "   In **Devonshire, Foothill, Harbor, Hollenbeck, Mission, Northeast, Olympic, and Rampart**, the number of male and female victims is quite similar.\n",
    "\n",
    "- **77th Street**:  \n",
    "   This area, which reports one of the highest crime rates from graph above **(Areas with the Highest Crime Rates)**, shows a majority of female victims.\n",
    "\n",
    "- **Central Area**:  \n",
    "   Here, male victims outnumber female victims by the largest margin among all areas.\n",
    "\n",
    "- **General Trend**:  \n",
    "   Across most areas, male victims generally outnumber female victims by a substantial amount.\n",
    "\n",
    "This visualization provides insight into gender dynamics among crime victims, highlighting areas where gender disparities are most pronounced.\n"
   ]
  },
  {
   "cell_type": "code",
   "execution_count": 122,
   "metadata": {},
   "outputs": [
    {
     "data": {
      "image/png": "[encoded data removed]",
      "text/plain": [
       "<Figure size 720x432 with 1 Axes>"
      ]
     },
     "metadata": {
      "needs_background": "light"
     },
     "output_type": "display_data"
    }
   ],
   "source": [
    "# Count the number of male and female victims per area\n",
    "\n",
    "#creates dataframe with Area Name as index\n",
    "victim_counts = df.groupby(['AREA NAME', 'Vict Sex']).size().unstack(fill_value=0) \n",
    "\n",
    "# Create a line plot\n",
    "plt.figure(figsize=(10, 6))\n",
    "sns.lineplot(data=victim_counts, marker='o')\n",
    "\n",
    "plt.title('Number of Male vs Female Victims per Area')\n",
    "plt.xlabel('Area Name')\n",
    "plt.ylabel('Number of Victims')\n",
    "plt.xticks(rotation=45)\n",
    "plt.legend(title='Victim Sex', labels=['Female', 'Male'])\n",
    "plt.tight_layout()\n",
    "plt.show()"
   ]
  },
  {
   "cell_type": "markdown",
   "metadata": {},
   "source": [
    "## **Highest Report Delay per Crime**\n",
    "\n",
    "Several interesting findings emerge regarding the report delays for different types of crimes:\n",
    "\n",
    "- The crime category with the highest report delay is **crimes against children aged 13 and under**, averaging a delay of **148 days**.\n",
    "- Among the top 10 crimes with the longest report delays, **5 are sexual offenses**, **2 are crimes against children**, and **3 are theft-related crimes**.\n"
   ]
  },
  {
   "cell_type": "code",
   "execution_count": 340,
   "metadata": {},
   "outputs": [
    {
     "data": {
      "text/html": [
       "<div>\n",
       "<style scoped>\n",
       "    .dataframe tbody tr th:only-of-type {\n",
       "        vertical-align: middle;\n",
       "    }\n",
       "\n",
       "    .dataframe tbody tr th {\n",
       "        vertical-align: top;\n",
       "    }\n",
       "\n",
       "    .dataframe thead th {\n",
       "        text-align: right;\n",
       "    }\n",
       "</style>\n",
       "<table border=\"1\" class=\"dataframe\">\n",
       "  <thead>\n",
       "    <tr style=\"text-align: right;\">\n",
       "      <th></th>\n",
       "      <th>Crm Cd Desc</th>\n",
       "      <th>Report Delay (Days)</th>\n",
       "    </tr>\n",
       "  </thead>\n",
       "  <tbody>\n",
       "    <tr>\n",
       "      <th>39</th>\n",
       "      <td>CRM AGNST CHLD (13 OR UNDER) (14-15 &amp; SUSP 10 ...</td>\n",
       "      <td>148.030981</td>\n",
       "    </tr>\n",
       "    <tr>\n",
       "      <th>101</th>\n",
       "      <td>SEX OFFENDER REGISTRANT OUT OF COMPLIANCE</td>\n",
       "      <td>125.278586</td>\n",
       "    </tr>\n",
       "    <tr>\n",
       "      <th>102</th>\n",
       "      <td>SEX,UNLAWFUL(INC MUTUAL CONSENT, PENETRATION W...</td>\n",
       "      <td>119.086223</td>\n",
       "    </tr>\n",
       "    <tr>\n",
       "      <th>46</th>\n",
       "      <td>DISHONEST EMPLOYEE ATTEMPTED THEFT</td>\n",
       "      <td>105.500000</td>\n",
       "    </tr>\n",
       "    <tr>\n",
       "      <th>79</th>\n",
       "      <td>LEWD/LASCIVIOUS ACTS WITH CHILD</td>\n",
       "      <td>104.229885</td>\n",
       "    </tr>\n",
       "    <tr>\n",
       "      <th>9</th>\n",
       "      <td>BIGAMY</td>\n",
       "      <td>99.428571</td>\n",
       "    </tr>\n",
       "    <tr>\n",
       "      <th>103</th>\n",
       "      <td>SEXUAL PENETRATION W/FOREIGN OBJECT</td>\n",
       "      <td>78.299924</td>\n",
       "    </tr>\n",
       "    <tr>\n",
       "      <th>83</th>\n",
       "      <td>ORAL COPULATION</td>\n",
       "      <td>76.058414</td>\n",
       "    </tr>\n",
       "    <tr>\n",
       "      <th>65</th>\n",
       "      <td>GRAND THEFT / AUTO REPAIR</td>\n",
       "      <td>66.000000</td>\n",
       "    </tr>\n",
       "    <tr>\n",
       "      <th>116</th>\n",
       "      <td>THEFT OF IDENTITY</td>\n",
       "      <td>65.376075</td>\n",
       "    </tr>\n",
       "  </tbody>\n",
       "</table>\n",
       "</div>"
      ],
      "text/plain": [
       "                                           Crm Cd Desc  Report Delay (Days)\n",
       "39   CRM AGNST CHLD (13 OR UNDER) (14-15 & SUSP 10 ...           148.030981\n",
       "101          SEX OFFENDER REGISTRANT OUT OF COMPLIANCE           125.278586\n",
       "102  SEX,UNLAWFUL(INC MUTUAL CONSENT, PENETRATION W...           119.086223\n",
       "46                  DISHONEST EMPLOYEE ATTEMPTED THEFT           105.500000\n",
       "79                     LEWD/LASCIVIOUS ACTS WITH CHILD           104.229885\n",
       "9                                               BIGAMY            99.428571\n",
       "103                SEXUAL PENETRATION W/FOREIGN OBJECT            78.299924\n",
       "83                                     ORAL COPULATION            76.058414\n",
       "65                           GRAND THEFT / AUTO REPAIR            66.000000\n",
       "116                                  THEFT OF IDENTITY            65.376075"
      ]
     },
     "execution_count": 340,
     "metadata": {},
     "output_type": "execute_result"
    }
   ],
   "source": [
    "df['Report Delay (Days)'] = df['Report Delay'].dt.days\n",
    "Average_Delay = df.groupby('Crm Cd Desc')['Report Delay (Days)'].mean().reset_index()\n",
    "Average_Delay.sort_values(by = 'Report Delay (Days)', ascending = False).head(10)"
   ]
  },
  {
   "cell_type": "markdown",
   "metadata": {},
   "source": [
    "#### **Average Report Delay in victims 18 and under**\n"
   ]
  },
  {
   "cell_type": "code",
   "execution_count": 341,
   "metadata": {},
   "outputs": [
    {
     "name": "stdout",
     "output_type": "stream",
     "text": [
      "Average crime report delay for minors are: 36 days 04:11:08.645284\n"
     ]
    }
   ],
   "source": [
    "print('Average crime report delay for minors are:', df[df['Vict Age'] <= 18]['Report Delay'].mean())"
   ]
  },
  {
   "cell_type": "markdown",
   "metadata": {},
   "source": [
    "#### **Average Report Delay in Adults**\n"
   ]
  },
  {
   "cell_type": "code",
   "execution_count": 342,
   "metadata": {},
   "outputs": [
    {
     "name": "stdout",
     "output_type": "stream",
     "text": [
      "Average crime report delay for adults is: 12 days 09:19:15.751804\n"
     ]
    }
   ],
   "source": [
    "print('Average crime report delay for adults is:', df[df['Vict Age'] > 18]['Report Delay'].mean())"
   ]
  },
  {
   "cell_type": "markdown",
   "metadata": {},
   "source": [
    "## Conclusion\n",
    "\n",
    "This analysis of LAPD crime records from January 1, 2020, to September 16, 2024, offers critical insights into crime trends in Los Angeles. The findings aim to support stakeholders in making data-driven decisions to enhance public safety.\n",
    "\n",
    "### Key Findings\n",
    "\n",
    "- **Crime Trends**: Overall crime rates show a notable increase, peaking in 2022, with the highest incidents occurring in **July**, **August**, and **October**. **February** consistently records the lowest crime counts, indicating seasonal variations.\n",
    "\n",
    "- **Common Crimes**: The predominant crime in the peak month of October and the highest crime year (2020) is **Vehicle Theft**, followed by **Simple Assault (Battery)** and **Burglary from Vehicle**.\n",
    "\n",
    "- **Victim Demographics**: Hispanics constitute the largest group of crime victims since 2020, reflecting their significant population in Los Angeles.\n",
    "\n",
    "- **Crimes Against Minors**: The most common offenses against victims under 18 include **Battery**, **Child Abuse**, and **Assault with a Deadly Weapon**.\n",
    "\n",
    "- **Weapons Used**: The most frequently used weapons in reported crimes are **Strong-Arm**, **Unknown Weapon**, and **Handgun**.\n",
    "\n",
    "- **Areas of Concern**: The neighborhoods with the highest crime rates are **Central**, **77th Street**, **Pacific**, and **Hollywood**, while **Foothill** has the lowest.\n",
    "\n",
    "- **Victim Gender Distribution**: Areas like **77th Street** and **Harbor** report higher female victimization, but **Central** shows a significant male victim majority.\n",
    "\n",
    "- **Reporting Delays**: Crimes against children aged 13 and under experience an average reporting delay of **148 days**.\n",
    "\n",
    "This analysis highlights key crime trends and demographics, providing essential data to inform public safety strategies.\n"
   ]
  },
  {
   "cell_type": "markdown",
   "metadata": {},
   "source": [
    "### Tableau Visualizations can be found here\n",
    "https://public.tableau.com/views/LACrime2020-2024/Dashboard1?:language=en-US&:sid=&:redirect=auth&:display_count=n&:origin=viz_share_link"
   ]
  },
  {
   "cell_type": "markdown",
   "metadata": {},
   "source": [
    "### Making a copy and removing unwanted columns to export as csv"
   ]
  },
  {
   "cell_type": "code",
   "execution_count": 912,
   "metadata": {},
   "outputs": [],
   "source": [
    "df_filtered = df.copy()"
   ]
  },
  {
   "cell_type": "code",
   "execution_count": 913,
   "metadata": {},
   "outputs": [],
   "source": [
    "df_filtered.drop(['DR_NO','Mocodes','Status', 'Status Desc','Cross Street','Report Delay (Days)'], axis = 1, inplace = True)"
   ]
  },
  {
   "cell_type": "code",
   "execution_count": 917,
   "metadata": {},
   "outputs": [],
   "source": [
    "df_filtered.to_csv('cleaned_Crime_Data_from_2020_to_Present.csv', index=False)"
   ]
  }
 ],
 "metadata": {
  "kernelspec": {
   "display_name": "Python 3",
   "language": "python",
   "name": "python3"
  },
  "language_info": {
   "codemirror_mode": {
    "name": "ipython",
    "version": 3
   },
   "file_extension": ".py",
   "mimetype": "text/x-python",
   "name": "python",
   "nbconvert_exporter": "python",
   "pygments_lexer": "ipython3",
   "version": "3.7.3"
  }
 },
 "nbformat": 4,
 "nbformat_minor": 2
}
